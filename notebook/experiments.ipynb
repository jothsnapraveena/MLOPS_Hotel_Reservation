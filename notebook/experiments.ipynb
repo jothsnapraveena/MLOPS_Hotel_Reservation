{
 "cells": [
  {
   "cell_type": "code",
   "execution_count": 4,
   "metadata": {},
   "outputs": [],
   "source": [
    "import pandas as pd\n",
    "import numpy as np\n",
    "import matplotlib.pyplot as plt\n",
    "import seaborn as sns\n"
   ]
  },
  {
   "cell_type": "code",
   "execution_count": 5,
   "metadata": {},
   "outputs": [],
   "source": [
    "import warnings\n",
    "warnings.simplefilter(\"ignore\")"
   ]
  },
  {
   "cell_type": "code",
   "execution_count": 6,
   "metadata": {},
   "outputs": [
    {
     "data": {
      "text/html": [
       "<div>\n",
       "<style scoped>\n",
       "    .dataframe tbody tr th:only-of-type {\n",
       "        vertical-align: middle;\n",
       "    }\n",
       "\n",
       "    .dataframe tbody tr th {\n",
       "        vertical-align: top;\n",
       "    }\n",
       "\n",
       "    .dataframe thead th {\n",
       "        text-align: right;\n",
       "    }\n",
       "</style>\n",
       "<table border=\"1\" class=\"dataframe\">\n",
       "  <thead>\n",
       "    <tr style=\"text-align: right;\">\n",
       "      <th></th>\n",
       "      <th>Booking_ID</th>\n",
       "      <th>no_of_adults</th>\n",
       "      <th>no_of_children</th>\n",
       "      <th>no_of_weekend_nights</th>\n",
       "      <th>no_of_week_nights</th>\n",
       "      <th>type_of_meal_plan</th>\n",
       "      <th>required_car_parking_space</th>\n",
       "      <th>room_type_reserved</th>\n",
       "      <th>lead_time</th>\n",
       "      <th>arrival_year</th>\n",
       "      <th>arrival_month</th>\n",
       "      <th>arrival_date</th>\n",
       "      <th>market_segment_type</th>\n",
       "      <th>repeated_guest</th>\n",
       "      <th>no_of_previous_cancellations</th>\n",
       "      <th>no_of_previous_bookings_not_canceled</th>\n",
       "      <th>avg_price_per_room</th>\n",
       "      <th>no_of_special_requests</th>\n",
       "      <th>booking_status</th>\n",
       "    </tr>\n",
       "  </thead>\n",
       "  <tbody>\n",
       "    <tr>\n",
       "      <th>0</th>\n",
       "      <td>INN25630</td>\n",
       "      <td>2</td>\n",
       "      <td>1</td>\n",
       "      <td>2</td>\n",
       "      <td>1</td>\n",
       "      <td>Meal Plan 1</td>\n",
       "      <td>0</td>\n",
       "      <td>Room_Type 1</td>\n",
       "      <td>26</td>\n",
       "      <td>2017</td>\n",
       "      <td>10</td>\n",
       "      <td>17</td>\n",
       "      <td>Online</td>\n",
       "      <td>0</td>\n",
       "      <td>0</td>\n",
       "      <td>0</td>\n",
       "      <td>161.00</td>\n",
       "      <td>0</td>\n",
       "      <td>Not_Canceled</td>\n",
       "    </tr>\n",
       "    <tr>\n",
       "      <th>1</th>\n",
       "      <td>INN14474</td>\n",
       "      <td>2</td>\n",
       "      <td>1</td>\n",
       "      <td>1</td>\n",
       "      <td>1</td>\n",
       "      <td>Meal Plan 1</td>\n",
       "      <td>0</td>\n",
       "      <td>Room_Type 1</td>\n",
       "      <td>98</td>\n",
       "      <td>2018</td>\n",
       "      <td>7</td>\n",
       "      <td>16</td>\n",
       "      <td>Online</td>\n",
       "      <td>0</td>\n",
       "      <td>0</td>\n",
       "      <td>0</td>\n",
       "      <td>121.50</td>\n",
       "      <td>2</td>\n",
       "      <td>Not_Canceled</td>\n",
       "    </tr>\n",
       "    <tr>\n",
       "      <th>2</th>\n",
       "      <td>INN23721</td>\n",
       "      <td>2</td>\n",
       "      <td>0</td>\n",
       "      <td>0</td>\n",
       "      <td>3</td>\n",
       "      <td>Meal Plan 1</td>\n",
       "      <td>0</td>\n",
       "      <td>Room_Type 1</td>\n",
       "      <td>433</td>\n",
       "      <td>2018</td>\n",
       "      <td>9</td>\n",
       "      <td>8</td>\n",
       "      <td>Offline</td>\n",
       "      <td>0</td>\n",
       "      <td>0</td>\n",
       "      <td>0</td>\n",
       "      <td>70.00</td>\n",
       "      <td>0</td>\n",
       "      <td>Canceled</td>\n",
       "    </tr>\n",
       "    <tr>\n",
       "      <th>3</th>\n",
       "      <td>INN05844</td>\n",
       "      <td>2</td>\n",
       "      <td>0</td>\n",
       "      <td>2</td>\n",
       "      <td>5</td>\n",
       "      <td>Meal Plan 1</td>\n",
       "      <td>0</td>\n",
       "      <td>Room_Type 1</td>\n",
       "      <td>195</td>\n",
       "      <td>2018</td>\n",
       "      <td>8</td>\n",
       "      <td>8</td>\n",
       "      <td>Offline</td>\n",
       "      <td>0</td>\n",
       "      <td>0</td>\n",
       "      <td>0</td>\n",
       "      <td>72.25</td>\n",
       "      <td>0</td>\n",
       "      <td>Not_Canceled</td>\n",
       "    </tr>\n",
       "    <tr>\n",
       "      <th>4</th>\n",
       "      <td>INN18710</td>\n",
       "      <td>1</td>\n",
       "      <td>0</td>\n",
       "      <td>0</td>\n",
       "      <td>2</td>\n",
       "      <td>Meal Plan 1</td>\n",
       "      <td>0</td>\n",
       "      <td>Room_Type 1</td>\n",
       "      <td>188</td>\n",
       "      <td>2018</td>\n",
       "      <td>6</td>\n",
       "      <td>15</td>\n",
       "      <td>Offline</td>\n",
       "      <td>0</td>\n",
       "      <td>0</td>\n",
       "      <td>0</td>\n",
       "      <td>130.00</td>\n",
       "      <td>0</td>\n",
       "      <td>Canceled</td>\n",
       "    </tr>\n",
       "  </tbody>\n",
       "</table>\n",
       "</div>"
      ],
      "text/plain": [
       "  Booking_ID  no_of_adults  no_of_children  no_of_weekend_nights  \\\n",
       "0   INN25630             2               1                     2   \n",
       "1   INN14474             2               1                     1   \n",
       "2   INN23721             2               0                     0   \n",
       "3   INN05844             2               0                     2   \n",
       "4   INN18710             1               0                     0   \n",
       "\n",
       "   no_of_week_nights type_of_meal_plan  required_car_parking_space  \\\n",
       "0                  1       Meal Plan 1                           0   \n",
       "1                  1       Meal Plan 1                           0   \n",
       "2                  3       Meal Plan 1                           0   \n",
       "3                  5       Meal Plan 1                           0   \n",
       "4                  2       Meal Plan 1                           0   \n",
       "\n",
       "  room_type_reserved  lead_time  arrival_year  arrival_month  arrival_date  \\\n",
       "0        Room_Type 1         26          2017             10            17   \n",
       "1        Room_Type 1         98          2018              7            16   \n",
       "2        Room_Type 1        433          2018              9             8   \n",
       "3        Room_Type 1        195          2018              8             8   \n",
       "4        Room_Type 1        188          2018              6            15   \n",
       "\n",
       "  market_segment_type  repeated_guest  no_of_previous_cancellations  \\\n",
       "0              Online               0                             0   \n",
       "1              Online               0                             0   \n",
       "2             Offline               0                             0   \n",
       "3             Offline               0                             0   \n",
       "4             Offline               0                             0   \n",
       "\n",
       "   no_of_previous_bookings_not_canceled  avg_price_per_room  \\\n",
       "0                                     0              161.00   \n",
       "1                                     0              121.50   \n",
       "2                                     0               70.00   \n",
       "3                                     0               72.25   \n",
       "4                                     0              130.00   \n",
       "\n",
       "   no_of_special_requests booking_status  \n",
       "0                       0   Not_Canceled  \n",
       "1                       2   Not_Canceled  \n",
       "2                       0       Canceled  \n",
       "3                       0   Not_Canceled  \n",
       "4                       0       Canceled  "
      ]
     },
     "execution_count": 6,
     "metadata": {},
     "output_type": "execute_result"
    }
   ],
   "source": [
    "df=pd.read_csv(\"train.csv\")\n",
    "df.head()"
   ]
  },
  {
   "cell_type": "code",
   "execution_count": 7,
   "metadata": {},
   "outputs": [
    {
     "data": {
      "text/plain": [
       "Index(['Booking_ID', 'no_of_adults', 'no_of_children', 'no_of_weekend_nights',\n",
       "       'no_of_week_nights', 'type_of_meal_plan', 'required_car_parking_space',\n",
       "       'room_type_reserved', 'lead_time', 'arrival_year', 'arrival_month',\n",
       "       'arrival_date', 'market_segment_type', 'repeated_guest',\n",
       "       'no_of_previous_cancellations', 'no_of_previous_bookings_not_canceled',\n",
       "       'avg_price_per_room', 'no_of_special_requests', 'booking_status'],\n",
       "      dtype='object')"
      ]
     },
     "execution_count": 7,
     "metadata": {},
     "output_type": "execute_result"
    }
   ],
   "source": [
    "df.columns"
   ]
  },
  {
   "cell_type": "code",
   "execution_count": 9,
   "metadata": {},
   "outputs": [],
   "source": [
    "df.drop(columns=[\"Booking_ID\"],inplace=True)"
   ]
  },
  {
   "cell_type": "code",
   "execution_count": 10,
   "metadata": {},
   "outputs": [
    {
     "data": {
      "text/plain": [
       "(29020, 18)"
      ]
     },
     "execution_count": 10,
     "metadata": {},
     "output_type": "execute_result"
    }
   ],
   "source": [
    "df.shape"
   ]
  },
  {
   "cell_type": "code",
   "execution_count": 11,
   "metadata": {},
   "outputs": [
    {
     "data": {
      "text/plain": [
       "no_of_adults                            0\n",
       "no_of_children                          0\n",
       "no_of_weekend_nights                    0\n",
       "no_of_week_nights                       0\n",
       "type_of_meal_plan                       0\n",
       "required_car_parking_space              0\n",
       "room_type_reserved                      0\n",
       "lead_time                               0\n",
       "arrival_year                            0\n",
       "arrival_month                           0\n",
       "arrival_date                            0\n",
       "market_segment_type                     0\n",
       "repeated_guest                          0\n",
       "no_of_previous_cancellations            0\n",
       "no_of_previous_bookings_not_canceled    0\n",
       "avg_price_per_room                      0\n",
       "no_of_special_requests                  0\n",
       "booking_status                          0\n",
       "dtype: int64"
      ]
     },
     "execution_count": 11,
     "metadata": {},
     "output_type": "execute_result"
    }
   ],
   "source": [
    "df.isnull().sum()"
   ]
  },
  {
   "cell_type": "code",
   "execution_count": 14,
   "metadata": {},
   "outputs": [
    {
     "data": {
      "text/plain": [
       "np.int64(0)"
      ]
     },
     "execution_count": 14,
     "metadata": {},
     "output_type": "execute_result"
    }
   ],
   "source": [
    "df.duplicated().sum()"
   ]
  },
  {
   "cell_type": "code",
   "execution_count": 13,
   "metadata": {},
   "outputs": [],
   "source": [
    "df.drop_duplicates(inplace=True)"
   ]
  },
  {
   "cell_type": "code",
   "execution_count": 15,
   "metadata": {},
   "outputs": [
    {
     "data": {
      "text/plain": [
       "(21359, 18)"
      ]
     },
     "execution_count": 15,
     "metadata": {},
     "output_type": "execute_result"
    }
   ],
   "source": [
    "df.shape"
   ]
  },
  {
   "cell_type": "code",
   "execution_count": 16,
   "metadata": {},
   "outputs": [
    {
     "data": {
      "text/plain": [
       "Index(['no_of_adults', 'no_of_children', 'no_of_weekend_nights',\n",
       "       'no_of_week_nights', 'type_of_meal_plan', 'required_car_parking_space',\n",
       "       'room_type_reserved', 'lead_time', 'arrival_year', 'arrival_month',\n",
       "       'arrival_date', 'market_segment_type', 'repeated_guest',\n",
       "       'no_of_previous_cancellations', 'no_of_previous_bookings_not_canceled',\n",
       "       'avg_price_per_room', 'no_of_special_requests', 'booking_status'],\n",
       "      dtype='object')"
      ]
     },
     "execution_count": 16,
     "metadata": {},
     "output_type": "execute_result"
    }
   ],
   "source": [
    "df.columns"
   ]
  },
  {
   "cell_type": "code",
   "execution_count": 20,
   "metadata": {},
   "outputs": [
    {
     "data": {
      "text/plain": [
       "no_of_week_nights\n",
       "2     5894\n",
       "1     5833\n",
       "3     4628\n",
       "4     1980\n",
       "0     1492\n",
       "5     1169\n",
       "6      136\n",
       "7       81\n",
       "8       43\n",
       "10      41\n",
       "9       24\n",
       "11      12\n",
       "15       7\n",
       "12       6\n",
       "14       5\n",
       "13       4\n",
       "16       2\n",
       "17       2\n",
       "Name: count, dtype: int64"
      ]
     },
     "execution_count": 20,
     "metadata": {},
     "output_type": "execute_result"
    }
   ],
   "source": [
    "df[\"no_of_week_nights\"].value_counts()"
   ]
  },
  {
   "cell_type": "code",
   "execution_count": 21,
   "metadata": {},
   "outputs": [],
   "source": [
    "cat_cols=['type_of_meal_plan','required_car_parking_space','room_type_reserved','market_segment_type', 'repeated_guest','booking_status']\n",
    "num_cols=['no_of_adults', 'no_of_children', 'no_of_weekend_nights',\n",
    "       'no_of_week_nights', 'lead_time', 'arrival_year', 'arrival_month',\n",
    "       'arrival_date', 'no_of_previous_cancellations', 'no_of_previous_bookings_not_canceled',\n",
    "       'avg_price_per_room', 'no_of_special_requests']"
   ]
  },
  {
   "cell_type": "code",
   "execution_count": null,
   "metadata": {},
   "outputs": [],
   "source": []
  }
 ],
 "metadata": {
  "kernelspec": {
   "display_name": "Python 3",
   "language": "python",
   "name": "python3"
  },
  "language_info": {
   "codemirror_mode": {
    "name": "ipython",
    "version": 3
   },
   "file_extension": ".py",
   "mimetype": "text/x-python",
   "name": "python",
   "nbconvert_exporter": "python",
   "pygments_lexer": "ipython3",
   "version": "3.12.9"
  }
 },
 "nbformat": 4,
 "nbformat_minor": 2
}
